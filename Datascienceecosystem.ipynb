{
 "cells": [
  {
   "cell_type": "markdown",
   "id": "bd8b3a78-939d-4ef9-b902-d8f5fca753c0",
   "metadata": {},
   "source": [
    "# H1:Data science tools and ecosystem"
   ]
  },
  {
   "cell_type": "markdown",
   "id": "b6b55b0f-398e-452f-a787-51250fe8b12f",
   "metadata": {},
   "source": [
    "# Data science tools and ecosystem"
   ]
  },
  {
   "cell_type": "markdown",
   "id": "137f97de-e802-4389-9f6d-6fb31afa5310",
   "metadata": {},
   "source": [
    "In this notebook, Data Science Tools and Ecosystem are summarized."
   ]
  },
  {
   "cell_type": "markdown",
   "id": "45abc3ea-ff26-415d-b119-a0e025cd6a9d",
   "metadata": {},
   "source": [
    "***objectives:***"
   ]
  },
  {
   "cell_type": "markdown",
   "id": "73ba3947-33ca-41e6-8597-db68f49776f5",
   "metadata": {},
   "source": [
    "+ python\n",
    "+ r\n",
    "+ scala\n",
    "+ stata"
   ]
  },
  {
   "cell_type": "markdown",
   "id": "70c53c50-4a97-4dce-b790-b54376427905",
   "metadata": {},
   "source": [
    "Some of the popular languages that Data Scientists use are:"
   ]
  },
  {
   "cell_type": "markdown",
   "id": "c5dc6ee8-cbac-40bd-a2ab-daf7b83e7a7f",
   "metadata": {},
   "source": [
    "1. numpy\n",
    "2. pandas\n",
    "3. matplotlib"
   ]
  },
  {
   "cell_type": "markdown",
   "id": "7c9bfcc3-e1d4-454a-a496-0a8f3ab40224",
   "metadata": {},
   "source": [
    "|data science tools|\n",
    "|--------------|\n",
    "vs code\n",
    "jupyter lab\n",
    "google colab"
   ]
  },
  {
   "cell_type": "markdown",
   "id": "e6411b5e-9ae5-4431-9d40-f2d89bcb3d28",
   "metadata": {},
   "source": [
    "### Below are a few examples of evaluating arithmetic expressions in Python"
   ]
  },
  {
   "cell_type": "code",
   "execution_count": 4,
   "id": "e5739ec0-c9f7-4e16-8b23-722fcaf014f4",
   "metadata": {},
   "outputs": [
    {
     "data": {
      "text/plain": [
       "17"
      ]
     },
     "execution_count": 4,
     "metadata": {},
     "output_type": "execute_result"
    }
   ],
   "source": [
    "(3*4)+5#This a simple arithmetic expression to mutiply then add integers"
   ]
  },
  {
   "cell_type": "code",
   "execution_count": 5,
   "id": "a9131dd7-cb69-4ea6-bd58-5c817504506f",
   "metadata": {},
   "outputs": [
    {
     "data": {
      "text/plain": [
       "3.3333333333333335"
      ]
     },
     "execution_count": 5,
     "metadata": {},
     "output_type": "execute_result"
    }
   ],
   "source": [
    "#This will convert 200 minutes to hours by diving by 60\n",
    "200/60"
   ]
  },
  {
   "cell_type": "markdown",
   "id": "9424e209-1e3a-46b6-9896-5d42b8d9698e",
   "metadata": {},
   "source": [
    "## Author\n",
    "sanjana"
   ]
  },
  {
   "cell_type": "code",
   "execution_count": null,
   "id": "b27023ae-7c5a-44ef-8aba-8a2f9f793fde",
   "metadata": {},
   "outputs": [],
   "source": []
  }
 ],
 "metadata": {
  "kernelspec": {
   "display_name": "Python 3 (ipykernel)",
   "language": "python",
   "name": "python3"
  },
  "language_info": {
   "codemirror_mode": {
    "name": "ipython",
    "version": 3
   },
   "file_extension": ".py",
   "mimetype": "text/x-python",
   "name": "python",
   "nbconvert_exporter": "python",
   "pygments_lexer": "ipython3",
   "version": "3.12.7"
  }
 },
 "nbformat": 4,
 "nbformat_minor": 5
}
